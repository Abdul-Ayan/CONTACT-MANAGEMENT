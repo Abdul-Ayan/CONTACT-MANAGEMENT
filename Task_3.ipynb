{
 "cells": [
  {
   "cell_type": "code",
   "execution_count": 2,
   "id": "c976e861-ef33-47a0-b9cb-fc64cd19734c",
   "metadata": {},
   "outputs": [
    {
     "name": "stdout",
     "output_type": "stream",
     "text": [
      "All contacts:\n",
      "Alice: 555-1234\n",
      "Bob: 555-5678\n",
      "Charlie: 555-9012\n",
      "\n",
      "Search for a contact:\n",
      "Bob: 555-5678\n",
      "\n",
      "Remove a contact:\n"
     ]
    }
   ],
   "source": [
    "def add_contact(contacts, name, phone_number):\n",
    "    \"\"\"Add a new contact to the contact list.\"\"\"\n",
    "    contacts[name] = phone_number\n",
    "\n",
    "def remove_contact(contacts, name):\n",
    "    \"\"\"Remove a contact from the contact list.\"\"\"\n",
    "    if name in contacts:\n",
    "        del contacts[name]\n",
    "    else:\n",
    "        print(f\"Contact {name} not found.\")\n",
    "\n",
    "def search_contact(contacts, name):\n",
    "    \"\"\"Search for a contact in the contact list.\"\"\"\n",
    "    if name in contacts:\n",
    "        print(f\"{name}: {contacts[name]}\")\n",
    "    else:\n",
    "        print(f\"Contact {name} not found.\")\n",
    "\n",
    "def display_contacts(contacts):\n",
    "    \"\"\"Display all contacts in the contact list.\"\"\"\n",
    "    for name, phone_number in contacts.items():\n",
    "        print(f\"{name}: {phone_number}\")\n",
    "\n",
    "if __name__ == \"__main__\":\n",
    "    # Initialize the contact list\n",
    "    contacts = {}\n",
    "\n",
    "    # Add some contacts\n",
    "    add_contact(contacts, \"Alice\", \"555-1234\")\n",
    "    add_contact(contacts, \"Bob\", \"555-5678\")\n",
    "    add_contact(contacts, \"Charlie\", \"555-9012\")\n",
    "\n",
    "    # Display all contacts\n",
    "    print(\"All contacts:\")\n",
    "    display_contacts(contacts)\n",
    "\n",
    "    # Search for a contact\n",
    "    print(\"\\nSearch for a contact:\")\n",
    "    search_contact(contacts, \"Bob\")\n",
    "\n",
    "    # Remove a contact\n",
    "    print(\"\\nRemove a contact:\")\n",
    "   "
   ]
  },
  {
   "cell_type": "code",
   "execution_count": null,
   "id": "d83f374b-453b-4614-892c-0ac0e1d6742f",
   "metadata": {},
   "outputs": [],
   "source": []
  }
 ],
 "metadata": {
  "kernelspec": {
   "display_name": "Python 3 (ipykernel)",
   "language": "python",
   "name": "python3"
  },
  "language_info": {
   "codemirror_mode": {
    "name": "ipython",
    "version": 3
   },
   "file_extension": ".py",
   "mimetype": "text/x-python",
   "name": "python",
   "nbconvert_exporter": "python",
   "pygments_lexer": "ipython3",
   "version": "3.12.3"
  }
 },
 "nbformat": 4,
 "nbformat_minor": 5
}
